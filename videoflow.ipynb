{
 "cells": [
  {
   "cell_type": "code",
   "execution_count": 1,
   "id": "73d8e203",
   "metadata": {
    "execution": {
     "iopub.execute_input": "2023-11-28T13:07:45.093366Z",
     "iopub.status.busy": "2023-11-28T13:07:45.092570Z",
     "iopub.status.idle": "2023-11-28T13:07:45.097207Z",
     "shell.execute_reply": "2023-11-28T13:07:45.096241Z"
    },
    "papermill": {
     "duration": 0.010904,
     "end_time": "2023-11-28T13:07:45.099139",
     "exception": false,
     "start_time": "2023-11-28T13:07:45.088235",
     "status": "completed"
    },
    "tags": []
   },
   "outputs": [],
   "source": [
    "# import sys\n",
    "# sys.path.append('/kaggle/input/videoflow-code/VideoFlow')\n",
    "# !cp -rf /kaggle/input/twins-svt-large/twins_svt_large-90f6aaa9.pth /kaggle/input/videoflow-code\n",
    "# import os\n",
    "# os.getcwdb()"
   ]
  },
  {
   "cell_type": "code",
   "execution_count": 2,
   "id": "01378836",
   "metadata": {
    "execution": {
     "iopub.execute_input": "2023-11-28T13:07:45.105893Z",
     "iopub.status.busy": "2023-11-28T13:07:45.105650Z",
     "iopub.status.idle": "2023-11-28T13:07:45.109838Z",
     "shell.execute_reply": "2023-11-28T13:07:45.109168Z"
    },
    "papermill": {
     "duration": 0.009226,
     "end_time": "2023-11-28T13:07:45.111703",
     "exception": false,
     "start_time": "2023-11-28T13:07:45.102477",
     "status": "completed"
    },
    "tags": []
   },
   "outputs": [],
   "source": [
    "# environment\n",
    "# !pip install pytorch=1.6.0 torchvision=0.7.0 cudatoolkit=10.1 matplotlib tensorboard scipy opencv-python -c pytorch\n",
    "# import torch\n",
    "# torch.cuda.is_available()\n",
    "# torch.cuda.device_count()"
   ]
  },
  {
   "cell_type": "code",
   "execution_count": 3,
   "id": "cfca96ad",
   "metadata": {
    "execution": {
     "iopub.execute_input": "2023-11-28T13:07:45.117670Z",
     "iopub.status.busy": "2023-11-28T13:07:45.117423Z",
     "iopub.status.idle": "2023-11-28T13:07:59.300378Z",
     "shell.execute_reply": "2023-11-28T13:07:59.299258Z"
    },
    "papermill": {
     "duration": 14.188607,
     "end_time": "2023-11-28T13:07:59.302792",
     "exception": false,
     "start_time": "2023-11-28T13:07:45.114185",
     "status": "completed"
    },
    "tags": []
   },
   "outputs": [
    {
     "name": "stdout",
     "output_type": "stream",
     "text": [
      "Collecting yacs\r\n",
      "  Downloading yacs-0.1.8-py3-none-any.whl (14 kB)\r\n",
      "Collecting loguru\r\n",
      "  Obtaining dependency information for loguru from https://files.pythonhosted.org/packages/03/0a/4f6fed21aa246c6b49b561ca55facacc2a44b87d65b8b92362a8e99ba202/loguru-0.7.2-py3-none-any.whl.metadata\r\n",
      "  Downloading loguru-0.7.2-py3-none-any.whl.metadata (23 kB)\r\n",
      "Collecting einops\r\n",
      "  Obtaining dependency information for einops from https://files.pythonhosted.org/packages/29/0b/2d1c0ebfd092e25935b86509a9a817159212d82aa43d7fb07eca4eeff2c2/einops-0.7.0-py3-none-any.whl.metadata\r\n",
      "  Downloading einops-0.7.0-py3-none-any.whl.metadata (13 kB)\r\n",
      "Collecting timm==0.4.12\r\n",
      "  Downloading timm-0.4.12-py3-none-any.whl (376 kB)\r\n",
      "\u001b[2K     \u001b[90m━━━━━━━━━━━━━━━━━━━━━━━━━━━━━━━━━━━━━━━\u001b[0m \u001b[32m377.0/377.0 kB\u001b[0m \u001b[31m8.0 MB/s\u001b[0m eta \u001b[36m0:00:00\u001b[0m\r\n",
      "\u001b[?25hRequirement already satisfied: imageio in /opt/conda/lib/python3.10/site-packages (2.31.1)\r\n",
      "Requirement already satisfied: torch>=1.4 in /opt/conda/lib/python3.10/site-packages (from timm==0.4.12) (2.0.0)\r\n",
      "Requirement already satisfied: torchvision in /opt/conda/lib/python3.10/site-packages (from timm==0.4.12) (0.15.1)\r\n",
      "Requirement already satisfied: PyYAML in /opt/conda/lib/python3.10/site-packages (from yacs) (6.0.1)\r\n",
      "Requirement already satisfied: numpy in /opt/conda/lib/python3.10/site-packages (from imageio) (1.24.3)\r\n",
      "Requirement already satisfied: pillow>=8.3.2 in /opt/conda/lib/python3.10/site-packages (from imageio) (10.1.0)\r\n",
      "Requirement already satisfied: filelock in /opt/conda/lib/python3.10/site-packages (from torch>=1.4->timm==0.4.12) (3.12.2)\r\n",
      "Requirement already satisfied: typing-extensions in /opt/conda/lib/python3.10/site-packages (from torch>=1.4->timm==0.4.12) (4.5.0)\r\n",
      "Requirement already satisfied: sympy in /opt/conda/lib/python3.10/site-packages (from torch>=1.4->timm==0.4.12) (1.12)\r\n",
      "Requirement already satisfied: networkx in /opt/conda/lib/python3.10/site-packages (from torch>=1.4->timm==0.4.12) (3.1)\r\n",
      "Requirement already satisfied: jinja2 in /opt/conda/lib/python3.10/site-packages (from torch>=1.4->timm==0.4.12) (3.1.2)\r\n",
      "Requirement already satisfied: requests in /opt/conda/lib/python3.10/site-packages (from torchvision->timm==0.4.12) (2.31.0)\r\n",
      "Requirement already satisfied: MarkupSafe>=2.0 in /opt/conda/lib/python3.10/site-packages (from jinja2->torch>=1.4->timm==0.4.12) (2.1.3)\r\n",
      "Requirement already satisfied: charset-normalizer<4,>=2 in /opt/conda/lib/python3.10/site-packages (from requests->torchvision->timm==0.4.12) (3.2.0)\r\n",
      "Requirement already satisfied: idna<4,>=2.5 in /opt/conda/lib/python3.10/site-packages (from requests->torchvision->timm==0.4.12) (3.4)\r\n",
      "Requirement already satisfied: urllib3<3,>=1.21.1 in /opt/conda/lib/python3.10/site-packages (from requests->torchvision->timm==0.4.12) (1.26.15)\r\n",
      "Requirement already satisfied: certifi>=2017.4.17 in /opt/conda/lib/python3.10/site-packages (from requests->torchvision->timm==0.4.12) (2023.7.22)\r\n",
      "Requirement already satisfied: mpmath>=0.19 in /opt/conda/lib/python3.10/site-packages (from sympy->torch>=1.4->timm==0.4.12) (1.3.0)\r\n",
      "Downloading loguru-0.7.2-py3-none-any.whl (62 kB)\r\n",
      "\u001b[2K   \u001b[90m━━━━━━━━━━━━━━━━━━━━━━━━━━━━━━━━━━━━━━━━\u001b[0m \u001b[32m62.5/62.5 kB\u001b[0m \u001b[31m7.2 MB/s\u001b[0m eta \u001b[36m0:00:00\u001b[0m\r\n",
      "\u001b[?25hDownloading einops-0.7.0-py3-none-any.whl (44 kB)\r\n",
      "\u001b[2K   \u001b[90m━━━━━━━━━━━━━━━━━━━━━━━━━━━━━━━━━━━━━━━━\u001b[0m \u001b[32m44.6/44.6 kB\u001b[0m \u001b[31m4.9 MB/s\u001b[0m eta \u001b[36m0:00:00\u001b[0m\r\n",
      "\u001b[?25hInstalling collected packages: yacs, loguru, einops, timm\r\n",
      "  Attempting uninstall: timm\r\n",
      "    Found existing installation: timm 0.9.10\r\n",
      "    Uninstalling timm-0.9.10:\r\n",
      "      Successfully uninstalled timm-0.9.10\r\n",
      "Successfully installed einops-0.7.0 loguru-0.7.2 timm-0.4.12 yacs-0.1.8\r\n"
     ]
    }
   ],
   "source": [
    "# pip installl\n",
    "!pip install yacs loguru einops timm==0.4.12 imageio"
   ]
  },
  {
   "cell_type": "code",
   "execution_count": 4,
   "id": "3c263ca1",
   "metadata": {
    "execution": {
     "iopub.execute_input": "2023-11-28T13:07:59.311998Z",
     "iopub.status.busy": "2023-11-28T13:07:59.311673Z",
     "iopub.status.idle": "2023-11-28T13:08:45.094841Z",
     "shell.execute_reply": "2023-11-28T13:08:45.093669Z"
    },
    "papermill": {
     "duration": 45.790578,
     "end_time": "2023-11-28T13:08:45.097317",
     "exception": false,
     "start_time": "2023-11-28T13:07:59.306739",
     "status": "completed"
    },
    "tags": []
   },
   "outputs": [
    {
     "name": "stdout",
     "output_type": "stream",
     "text": [
      "/opt/conda/lib/python3.10/site-packages/scipy/__init__.py:146: UserWarning: A NumPy version >=1.16.5 and <1.23.0 is required for this version of SciPy (detected version 1.24.3\r\n",
      "  warnings.warn(f\"A NumPy version >={np_minversion} and <{np_maxversion}\"\r\n",
      "2\r\n",
      "\u001b[32m2023-11-28 13:08:17.761\u001b[0m | \u001b[1mINFO    \u001b[0m | \u001b[36m__main__\u001b[0m:\u001b[36m<module>\u001b[0m:\u001b[36m151\u001b[0m - \u001b[1mBOFNet:\r\n",
      "  cnet: twins\r\n",
      "  corr_fn: default\r\n",
      "  critical_params: ['cnet', 'fnet', 'pretrain', 'corr_fn', 'mixed_precision']\r\n",
      "  decoder_depth: 12\r\n",
      "  fnet: twins\r\n",
      "  gma: GMA-SK2\r\n",
      "  mixed_precision: False\r\n",
      "  pretrain: True\r\n",
      "add_noise: False\r\n",
      "batch_size: 4\r\n",
      "critical_params: []\r\n",
      "filter_epe: False\r\n",
      "gamma: 0.85\r\n",
      "image_size: [432, 960]\r\n",
      "log_dir: /kaggle/working/logs/flowformer/BOFNet/cnet[twins]fnet[twins]pretrain[True]corr_fn[default]mixed_precision[False](11_28_13_08)\r\n",
      "max_flow: 400\r\n",
      "mixed_precision: False\r\n",
      "name: flowformer\r\n",
      "network: BOFNet\r\n",
      "restore_ckpt: /kaggle/input/videoflow-code/VideoFlow_ckpt/BOF_sintel.pth\r\n",
      "stage: sintel\r\n",
      "suffix: \r\n",
      "sum_freq: 100\r\n",
      "trainer:\r\n",
      "  adamw_decay: 0.0001\r\n",
      "  anneal_strategy: linear\r\n",
      "  canonical_lr: 0.000125\r\n",
      "  clip: 1.0\r\n",
      "  epsilon: 1e-08\r\n",
      "  num_steps: 120\r\n",
      "  optimizer: adamw\r\n",
      "  scheduler: OneCycleLR\r\n",
      "use_smoothl1: False\r\n",
      "val_freq: 100000\r\n",
      "validation: None\u001b[0m\r\n",
      "[Using twins as context encoder]\r\n",
      "Downloading: \"https://github.com/rwightman/pytorch-image-models/releases/download/v0.1-vt3p-weights/twins_svt_large-90f6aaa9.pth\" to /root/.cache/torch/hub/checkpoints/twins_svt_large-90f6aaa9.pth\r\n",
      "[Using twins as feature encoder]\r\n",
      "[Using GMA-SK2]\r\n",
      "[Using corr_fn default]\r\n",
      "\u001b[32m2023-11-28 13:08:24.537\u001b[0m | \u001b[1mINFO    \u001b[0m | \u001b[36m__main__\u001b[0m:\u001b[36mtrain\u001b[0m:\u001b[36m66\u001b[0m - \u001b[1mParameter Count: 12659389\u001b[0m\r\n",
      "[Loading ckpt from /kaggle/input/videoflow-code/VideoFlow_ckpt/BOF_sintel.pth]\r\n",
      "[reverse_rate is 0.3]\r\n",
      "[reverse_rate is 0.3]\r\n",
      "Training with 208200 image pairs\r\n",
      "/opt/conda/lib/python3.10/site-packages/torch/functional.py:504: UserWarning: torch.meshgrid: in an upcoming release, it will be required to pass the indexing argument. (Triggered internally at /usr/local/src/pytorch/aten/src/ATen/native/TensorShape.cpp:3483.)\r\n",
      "  return _VF.meshgrid(tensors, **kwargs)  # type: ignore[attr-defined]\r\n",
      "Traceback (most recent call last):\r\n",
      "  File \"/kaggle/input/videoflow-code/train_BOFNet.py\", line 156, in <module>\r\n",
      "    print(train(cfg))\r\n",
      "  File \"/kaggle/input/videoflow-code/train_BOFNet.py\", line 93, in train\r\n",
      "    flow_predictions = model(images, output)\r\n",
      "  File \"/opt/conda/lib/python3.10/site-packages/torch/nn/modules/module.py\", line 1501, in _call_impl\r\n",
      "    return forward_call(*args, **kwargs)\r\n",
      "  File \"/opt/conda/lib/python3.10/site-packages/torch/nn/parallel/data_parallel.py\", line 171, in forward\r\n",
      "    outputs = self.parallel_apply(replicas, inputs, kwargs)\r\n",
      "  File \"/opt/conda/lib/python3.10/site-packages/torch/nn/parallel/data_parallel.py\", line 181, in parallel_apply\r\n",
      "    return parallel_apply(replicas, inputs, kwargs, self.device_ids[:len(replicas)])\r\n",
      "  File \"/opt/conda/lib/python3.10/site-packages/torch/nn/parallel/parallel_apply.py\", line 89, in parallel_apply\r\n",
      "    output.reraise()\r\n",
      "  File \"/opt/conda/lib/python3.10/site-packages/torch/_utils.py\", line 644, in reraise\r\n",
      "    raise exception\r\n",
      "torch.cuda.OutOfMemoryError: Caught OutOfMemoryError in replica 0 on device 0.\r\n",
      "Original Traceback (most recent call last):\r\n",
      "  File \"/opt/conda/lib/python3.10/site-packages/torch/nn/parallel/parallel_apply.py\", line 64, in _worker\r\n",
      "    output = module(*input, **kwargs)\r\n",
      "  File \"/opt/conda/lib/python3.10/site-packages/torch/nn/modules/module.py\", line 1501, in _call_impl\r\n",
      "    return forward_call(*args, **kwargs)\r\n",
      "  File \"/kaggle/input/videoflow-code/core/Networks/BOFNet/network.py\", line 122, in forward\r\n",
      "    corr = torch.cat([corr23, corr21], dim=1)\r\n",
      "torch.cuda.OutOfMemoryError: CUDA out of memory. Tried to allocate 34.00 MiB (GPU 0; 14.76 GiB total capacity; 13.25 GiB already allocated; 19.75 MiB free; 13.57 GiB reserved in total by PyTorch) If reserved memory is >> allocated memory try setting max_split_size_mb to avoid fragmentation.  See documentation for Memory Management and PYTORCH_CUDA_ALLOC_CONF\r\n",
      "\r\n"
     ]
    }
   ],
   "source": [
    "# 推理\n",
    "# !python /kaggle/input/videoflow-code/inference.py\n",
    "# 处理数据集\n",
    "#!mkdir /kaggle/working/sintel_three_frames\n",
    "#!touch /kaggle/working/sintel_three_frames/Sintel_clean_flo.txt\n",
    "# !python /kaggle/input/videoflow-code/flow_datasets/sintel_three_frames/convert_sintel.py\n",
    "# 训练\n",
    "!rm -rf /kaggle/working/logs/\n",
    "!python /kaggle/input/videoflow-code/train_BOFNet.py --stage sintel"
   ]
  },
  {
   "cell_type": "code",
   "execution_count": 5,
   "id": "274ccdbe",
   "metadata": {
    "execution": {
     "iopub.execute_input": "2023-11-28T13:08:45.108630Z",
     "iopub.status.busy": "2023-11-28T13:08:45.108312Z",
     "iopub.status.idle": "2023-11-28T13:08:45.131745Z",
     "shell.execute_reply": "2023-11-28T13:08:45.130676Z"
    },
    "papermill": {
     "duration": 0.031295,
     "end_time": "2023-11-28T13:08:45.133678",
     "exception": false,
     "start_time": "2023-11-28T13:08:45.102383",
     "status": "completed"
    },
    "tags": []
   },
   "outputs": [
    {
     "name": "stdout",
     "output_type": "stream",
     "text": [
      "打包完成\n",
      "2023-11-28 13:08:45.128822\n"
     ]
    }
   ],
   "source": [
    "# 打包\n",
    "import os\n",
    "import zipfile\n",
    "import datetime\n",
    "\n",
    "def file2zip(packagePath, zipPath):\n",
    "    '''\n",
    "  :param packagePath: 文件夹路径\n",
    "  :param zipPath: 压缩包路径\n",
    "  :return:\n",
    "  '''\n",
    "    zip = zipfile.ZipFile(zipPath, 'w', zipfile.ZIP_DEFLATED)\n",
    "    for path, dirNames, fileNames in os.walk(packagePath):\n",
    "        fpath = path.replace(packagePath, '')\n",
    "        for name in fileNames:\n",
    "            fullName = os.path.join(path, name)\n",
    "            name = fpath + '\\\\' + name\n",
    "            zip.write(fullName, name)\n",
    "    zip.close()\n",
    "\n",
    "\n",
    "if __name__ == \"__main__\":\n",
    "    # 文件夹路径\n",
    "    packagePath = '/kaggle/working/logs'\n",
    "    zipPath = '/kaggle/working/output.zip'\n",
    "    if os.path.exists(zipPath):\n",
    "        os.remove(zipPath)\n",
    "    file2zip(packagePath, zipPath)\n",
    "    print(\"打包完成\")\n",
    "    print(datetime.datetime.utcnow())\n"
   ]
  }
 ],
 "metadata": {
  "kaggle": {
   "accelerator": "nvidiaTeslaT4",
   "dataSources": [
    {
     "datasetId": 1763913,
     "sourceId": 2879662,
     "sourceType": "datasetVersion"
    },
    {
     "datasetId": 3804768,
     "sourceId": 6592648,
     "sourceType": "datasetVersion"
    },
    {
     "datasetId": 4052346,
     "isSourceIdPinned": true,
     "sourceId": 7074158,
     "sourceType": "datasetVersion"
    }
   ],
   "isGpuEnabled": true,
   "isInternetEnabled": true,
   "language": "python",
   "sourceType": "notebook"
  },
  "kernelspec": {
   "display_name": "Python 3",
   "language": "python",
   "name": "python3"
  },
  "language_info": {
   "codemirror_mode": {
    "name": "ipython",
    "version": 3
   },
   "file_extension": ".py",
   "mimetype": "text/x-python",
   "name": "python",
   "nbconvert_exporter": "python",
   "pygments_lexer": "ipython3",
   "version": "3.10.12"
  },
  "papermill": {
   "default_parameters": {},
   "duration": 63.55274,
   "end_time": "2023-11-28T13:08:45.356319",
   "environment_variables": {},
   "exception": null,
   "input_path": "__notebook__.ipynb",
   "output_path": "__notebook__.ipynb",
   "parameters": {},
   "start_time": "2023-11-28T13:07:41.803579",
   "version": "2.4.0"
  }
 },
 "nbformat": 4,
 "nbformat_minor": 5
}
