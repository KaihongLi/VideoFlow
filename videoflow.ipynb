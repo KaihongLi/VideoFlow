{
 "cells": [
  {
   "cell_type": "code",
   "execution_count": 1,
   "id": "6a249f33",
   "metadata": {
    "execution": {
     "iopub.execute_input": "2023-11-27T13:36:21.159444Z",
     "iopub.status.busy": "2023-11-27T13:36:21.158613Z",
     "iopub.status.idle": "2023-11-27T13:36:21.163489Z",
     "shell.execute_reply": "2023-11-27T13:36:21.162763Z"
    },
    "papermill": {
     "duration": 0.011395,
     "end_time": "2023-11-27T13:36:21.165379",
     "exception": false,
     "start_time": "2023-11-27T13:36:21.153984",
     "status": "completed"
    },
    "tags": []
   },
   "outputs": [],
   "source": [
    "# import sys\n",
    "# sys.path.append('/kaggle/input/videoflow-code/VideoFlow')\n",
    "# !cp -rf /kaggle/input/twins-svt-large/twins_svt_large-90f6aaa9.pth /kaggle/input/videoflow-code\n",
    "# import os\n",
    "# os.getcwdb()"
   ]
  },
  {
   "cell_type": "code",
   "execution_count": 2,
   "id": "9993f920",
   "metadata": {
    "execution": {
     "iopub.execute_input": "2023-11-27T13:36:21.171798Z",
     "iopub.status.busy": "2023-11-27T13:36:21.171191Z",
     "iopub.status.idle": "2023-11-27T13:36:21.174831Z",
     "shell.execute_reply": "2023-11-27T13:36:21.174007Z"
    },
    "papermill": {
     "duration": 0.008837,
     "end_time": "2023-11-27T13:36:21.176798",
     "exception": false,
     "start_time": "2023-11-27T13:36:21.167961",
     "status": "completed"
    },
    "tags": []
   },
   "outputs": [],
   "source": [
    "# environment\n",
    "# !pip install pytorch=1.6.0 torchvision=0.7.0 cudatoolkit=10.1 matplotlib tensorboard scipy opencv-python -c pytorch\n",
    "# import torch\n",
    "# torch.cuda.is_available()\n",
    "# torch.cuda.device_count()"
   ]
  },
  {
   "cell_type": "code",
   "execution_count": 3,
   "id": "8b726a6a",
   "metadata": {
    "execution": {
     "iopub.execute_input": "2023-11-27T13:36:21.182748Z",
     "iopub.status.busy": "2023-11-27T13:36:21.182517Z",
     "iopub.status.idle": "2023-11-27T13:36:37.393121Z",
     "shell.execute_reply": "2023-11-27T13:36:37.392120Z"
    },
    "papermill": {
     "duration": 16.216305,
     "end_time": "2023-11-27T13:36:37.395546",
     "exception": false,
     "start_time": "2023-11-27T13:36:21.179241",
     "status": "completed"
    },
    "tags": []
   },
   "outputs": [
    {
     "name": "stdout",
     "output_type": "stream",
     "text": [
      "Collecting yacs\r\n",
      "  Downloading yacs-0.1.8-py3-none-any.whl (14 kB)\r\n",
      "Collecting loguru\r\n",
      "  Obtaining dependency information for loguru from https://files.pythonhosted.org/packages/03/0a/4f6fed21aa246c6b49b561ca55facacc2a44b87d65b8b92362a8e99ba202/loguru-0.7.2-py3-none-any.whl.metadata\r\n",
      "  Downloading loguru-0.7.2-py3-none-any.whl.metadata (23 kB)\r\n",
      "Collecting einops\r\n",
      "  Obtaining dependency information for einops from https://files.pythonhosted.org/packages/29/0b/2d1c0ebfd092e25935b86509a9a817159212d82aa43d7fb07eca4eeff2c2/einops-0.7.0-py3-none-any.whl.metadata\r\n",
      "  Downloading einops-0.7.0-py3-none-any.whl.metadata (13 kB)\r\n",
      "Collecting timm==0.4.12\r\n",
      "  Downloading timm-0.4.12-py3-none-any.whl (376 kB)\r\n",
      "\u001b[2K     \u001b[90m━━━━━━━━━━━━━━━━━━━━━━━━━━━━━━━━━━━━━━━\u001b[0m \u001b[32m377.0/377.0 kB\u001b[0m \u001b[31m8.7 MB/s\u001b[0m eta \u001b[36m0:00:00\u001b[0m\r\n",
      "\u001b[?25hRequirement already satisfied: imageio in /opt/conda/lib/python3.10/site-packages (2.31.1)\r\n",
      "Requirement already satisfied: torch>=1.4 in /opt/conda/lib/python3.10/site-packages (from timm==0.4.12) (2.0.0)\r\n",
      "Requirement already satisfied: torchvision in /opt/conda/lib/python3.10/site-packages (from timm==0.4.12) (0.15.1)\r\n",
      "Requirement already satisfied: PyYAML in /opt/conda/lib/python3.10/site-packages (from yacs) (6.0.1)\r\n",
      "Requirement already satisfied: numpy in /opt/conda/lib/python3.10/site-packages (from imageio) (1.24.3)\r\n",
      "Requirement already satisfied: pillow>=8.3.2 in /opt/conda/lib/python3.10/site-packages (from imageio) (10.1.0)\r\n",
      "Requirement already satisfied: filelock in /opt/conda/lib/python3.10/site-packages (from torch>=1.4->timm==0.4.12) (3.12.2)\r\n",
      "Requirement already satisfied: typing-extensions in /opt/conda/lib/python3.10/site-packages (from torch>=1.4->timm==0.4.12) (4.5.0)\r\n",
      "Requirement already satisfied: sympy in /opt/conda/lib/python3.10/site-packages (from torch>=1.4->timm==0.4.12) (1.12)\r\n",
      "Requirement already satisfied: networkx in /opt/conda/lib/python3.10/site-packages (from torch>=1.4->timm==0.4.12) (3.1)\r\n",
      "Requirement already satisfied: jinja2 in /opt/conda/lib/python3.10/site-packages (from torch>=1.4->timm==0.4.12) (3.1.2)\r\n",
      "Requirement already satisfied: requests in /opt/conda/lib/python3.10/site-packages (from torchvision->timm==0.4.12) (2.31.0)\r\n",
      "Requirement already satisfied: MarkupSafe>=2.0 in /opt/conda/lib/python3.10/site-packages (from jinja2->torch>=1.4->timm==0.4.12) (2.1.3)\r\n",
      "Requirement already satisfied: charset-normalizer<4,>=2 in /opt/conda/lib/python3.10/site-packages (from requests->torchvision->timm==0.4.12) (3.2.0)\r\n",
      "Requirement already satisfied: idna<4,>=2.5 in /opt/conda/lib/python3.10/site-packages (from requests->torchvision->timm==0.4.12) (3.4)\r\n",
      "Requirement already satisfied: urllib3<3,>=1.21.1 in /opt/conda/lib/python3.10/site-packages (from requests->torchvision->timm==0.4.12) (1.26.15)\r\n",
      "Requirement already satisfied: certifi>=2017.4.17 in /opt/conda/lib/python3.10/site-packages (from requests->torchvision->timm==0.4.12) (2023.7.22)\r\n",
      "Requirement already satisfied: mpmath>=0.19 in /opt/conda/lib/python3.10/site-packages (from sympy->torch>=1.4->timm==0.4.12) (1.3.0)\r\n",
      "Downloading loguru-0.7.2-py3-none-any.whl (62 kB)\r\n",
      "\u001b[2K   \u001b[90m━━━━━━━━━━━━━━━━━━━━━━━━━━━━━━━━━━━━━━━━\u001b[0m \u001b[32m62.5/62.5 kB\u001b[0m \u001b[31m5.2 MB/s\u001b[0m eta \u001b[36m0:00:00\u001b[0m\r\n",
      "\u001b[?25hDownloading einops-0.7.0-py3-none-any.whl (44 kB)\r\n",
      "\u001b[2K   \u001b[90m━━━━━━━━━━━━━━━━━━━━━━━━━━━━━━━━━━━━━━━━\u001b[0m \u001b[32m44.6/44.6 kB\u001b[0m \u001b[31m4.2 MB/s\u001b[0m eta \u001b[36m0:00:00\u001b[0m\r\n",
      "\u001b[?25hInstalling collected packages: yacs, loguru, einops, timm\r\n",
      "  Attempting uninstall: timm\r\n",
      "    Found existing installation: timm 0.9.10\r\n",
      "    Uninstalling timm-0.9.10:\r\n",
      "      Successfully uninstalled timm-0.9.10\r\n",
      "Successfully installed einops-0.7.0 loguru-0.7.2 timm-0.4.12 yacs-0.1.8\r\n"
     ]
    }
   ],
   "source": [
    "# pip installl\n",
    "!pip install yacs loguru einops timm==0.4.12 imageio"
   ]
  },
  {
   "cell_type": "code",
   "execution_count": 4,
   "id": "4672fe8a",
   "metadata": {
    "execution": {
     "iopub.execute_input": "2023-11-27T13:36:37.405735Z",
     "iopub.status.busy": "2023-11-27T13:36:37.405455Z",
     "iopub.status.idle": "2023-11-27T13:36:47.179239Z",
     "shell.execute_reply": "2023-11-27T13:36:47.178107Z"
    },
    "papermill": {
     "duration": 9.781683,
     "end_time": "2023-11-27T13:36:47.181752",
     "exception": false,
     "start_time": "2023-11-27T13:36:37.400069",
     "status": "completed"
    },
    "tags": []
   },
   "outputs": [
    {
     "name": "stdout",
     "output_type": "stream",
     "text": [
      "Traceback (most recent call last):\r\n",
      "  File \"/kaggle/input/videoflow-code/train_BOFNet.py\", line 20, in <module>\r\n",
      "    import core.datasets_3frames as datasets\r\n",
      "  File \"/kaggle/input/videoflow-code/core/datasets_3frames.py\", line 271\r\n",
      "    return\r\n",
      "    ^^^^^^\r\n",
      "SyntaxError: 'return' outside function\r\n"
     ]
    }
   ],
   "source": [
    "# 推理\n",
    "# !python /kaggle/input/videoflow-code/inference.py\n",
    "# 训练\n",
    "!python /kaggle/input/videoflow-code/train_BOFNet.py --stage sintel"
   ]
  },
  {
   "cell_type": "code",
   "execution_count": 5,
   "id": "50c19605",
   "metadata": {
    "execution": {
     "iopub.execute_input": "2023-11-27T13:36:47.192314Z",
     "iopub.status.busy": "2023-11-27T13:36:47.191570Z",
     "iopub.status.idle": "2023-11-27T13:36:47.201629Z",
     "shell.execute_reply": "2023-11-27T13:36:47.200600Z"
    },
    "papermill": {
     "duration": 0.017382,
     "end_time": "2023-11-27T13:36:47.203507",
     "exception": false,
     "start_time": "2023-11-27T13:36:47.186125",
     "status": "completed"
    },
    "tags": []
   },
   "outputs": [
    {
     "name": "stdout",
     "output_type": "stream",
     "text": [
      "打包完成\n",
      "2023-11-27 13:36:47.198562\n"
     ]
    }
   ],
   "source": [
    "# 打包\n",
    "import os\n",
    "import zipfile\n",
    "import datetime\n",
    "\n",
    "def file2zip(packagePath, zipPath):\n",
    "    '''\n",
    "  :param packagePath: 文件夹路径\n",
    "  :param zipPath: 压缩包路径\n",
    "  :return:\n",
    "  '''\n",
    "    zip = zipfile.ZipFile(zipPath, 'w', zipfile.ZIP_DEFLATED)\n",
    "    for path, dirNames, fileNames in os.walk(packagePath):\n",
    "        fpath = path.replace(packagePath, '')\n",
    "        for name in fileNames:\n",
    "            fullName = os.path.join(path, name)\n",
    "            name = fpath + '\\\\' + name\n",
    "            zip.write(fullName, name)\n",
    "    zip.close()\n",
    "\n",
    "\n",
    "if __name__ == \"__main__\":\n",
    "    # 文件夹路径\n",
    "    packagePath = '/kaggle/working/logs'\n",
    "    zipPath = '/kaggle/working/output.zip'\n",
    "    if os.path.exists(zipPath):\n",
    "        os.remove(zipPath)\n",
    "    file2zip(packagePath, zipPath)\n",
    "    print(\"打包完成\")\n",
    "    print(datetime.datetime.utcnow())\n"
   ]
  },
  {
   "cell_type": "code",
   "execution_count": 6,
   "id": "72cb3f11",
   "metadata": {
    "execution": {
     "iopub.execute_input": "2023-11-27T13:36:47.212755Z",
     "iopub.status.busy": "2023-11-27T13:36:47.212485Z",
     "iopub.status.idle": "2023-11-27T13:36:48.284317Z",
     "shell.execute_reply": "2023-11-27T13:36:48.283088Z"
    },
    "papermill": {
     "duration": 1.079229,
     "end_time": "2023-11-27T13:36:48.286800",
     "exception": false,
     "start_time": "2023-11-27T13:36:47.207571",
     "status": "completed"
    },
    "tags": []
   },
   "outputs": [
    {
     "name": "stdout",
     "output_type": "stream",
     "text": [
      "Mon Nov 27 13:36:48 2023       \r\n",
      "+-----------------------------------------------------------------------------+\r\n",
      "| NVIDIA-SMI 470.161.03   Driver Version: 470.161.03   CUDA Version: 11.4     |\r\n",
      "|-------------------------------+----------------------+----------------------+\r\n",
      "| GPU  Name        Persistence-M| Bus-Id        Disp.A | Volatile Uncorr. ECC |\r\n",
      "| Fan  Temp  Perf  Pwr:Usage/Cap|         Memory-Usage | GPU-Util  Compute M. |\r\n",
      "|                               |                      |               MIG M. |\r\n",
      "|===============================+======================+======================|\r\n",
      "|   0  Tesla T4            Off  | 00000000:00:04.0 Off |                    0 |\r\n",
      "| N/A   39C    P8     9W /  70W |      0MiB / 15109MiB |      0%      Default |\r\n",
      "|                               |                      |                  N/A |\r\n",
      "+-------------------------------+----------------------+----------------------+\r\n",
      "|   1  Tesla T4            Off  | 00000000:00:05.0 Off |                    0 |\r\n",
      "| N/A   34C    P8     9W /  70W |      0MiB / 15109MiB |      0%      Default |\r\n",
      "|                               |                      |                  N/A |\r\n",
      "+-------------------------------+----------------------+----------------------+\r\n",
      "                                                                               \r\n",
      "+-----------------------------------------------------------------------------+\r\n",
      "| Processes:                                                                  |\r\n",
      "|  GPU   GI   CI        PID   Type   Process name                  GPU Memory |\r\n",
      "|        ID   ID                                                   Usage      |\r\n",
      "|=============================================================================|\r\n",
      "|  No running processes found                                                 |\r\n",
      "+-----------------------------------------------------------------------------+\r\n"
     ]
    }
   ],
   "source": [
    "!nvidia-smi"
   ]
  }
 ],
 "metadata": {
  "kaggle": {
   "accelerator": "nvidiaTeslaT4",
   "dataSources": [
    {
     "datasetId": 1763913,
     "sourceId": 2879662,
     "sourceType": "datasetVersion"
    },
    {
     "datasetId": 3804768,
     "sourceId": 6592648,
     "sourceType": "datasetVersion"
    },
    {
     "datasetId": 4052346,
     "isSourceIdPinned": false,
     "sourceId": 7043608,
     "sourceType": "datasetVersion"
    }
   ],
   "isGpuEnabled": true,
   "isInternetEnabled": true,
   "language": "python",
   "sourceType": "notebook"
  },
  "kernelspec": {
   "display_name": "Python 3",
   "language": "python",
   "name": "python3"
  },
  "language_info": {
   "codemirror_mode": {
    "name": "ipython",
    "version": 3
   },
   "file_extension": ".py",
   "mimetype": "text/x-python",
   "name": "python",
   "nbconvert_exporter": "python",
   "pygments_lexer": "ipython3",
   "version": "3.10.12"
  },
  "papermill": {
   "default_parameters": {},
   "duration": 32.1531,
   "end_time": "2023-11-27T13:36:48.610618",
   "environment_variables": {},
   "exception": null,
   "input_path": "__notebook__.ipynb",
   "output_path": "__notebook__.ipynb",
   "parameters": {},
   "start_time": "2023-11-27T13:36:16.457518",
   "version": "2.4.0"
  }
 },
 "nbformat": 4,
 "nbformat_minor": 5
}
